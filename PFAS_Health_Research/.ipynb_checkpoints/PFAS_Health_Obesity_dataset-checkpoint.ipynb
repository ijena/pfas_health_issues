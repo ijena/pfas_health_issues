{
 "cells": [
  {
   "cell_type": "code",
   "execution_count": 1,
   "id": "07104f5e-9e07-4ad7-9991-ff2699a43198",
   "metadata": {
    "tags": []
   },
   "outputs": [],
   "source": [
    "import pandas as pd\n",
    "import matplotlib.pyplot as plt"
   ]
  },
  {
   "cell_type": "code",
   "execution_count": 2,
   "id": "0d01a030-dfca-4501-97b8-a82d3d644b00",
   "metadata": {
    "tags": []
   },
   "outputs": [],
   "source": [
    "#2022 brfss_dataset\n",
    "# brfss_dataset_path = r\"C:\\Users\\idhan\\Downloads\\pfas_health_issues\\data\\Nutrition__Physical_Activity__and_Obesity_-_Behavioral_Risk_Factor_Surveillance_System_20240828.csv\""
   ]
  },
  {
   "cell_type": "code",
   "execution_count": 3,
   "id": "accb1832-4972-4c21-b2a9-c732052a57d5",
   "metadata": {},
   "outputs": [],
   "source": [
    "#2024 brfss_dataset\n",
    "brfss_dataset_path = r\"C:\\Users\\idhan\\Downloads\\Nutrition__Physical_Activity__and_Obesity_-_Behavioral_Risk_Factor_Surveillance_System_20241030.csv\""
   ]
  },
  {
   "cell_type": "code",
   "execution_count": 4,
   "id": "63d35caf-f0a9-44bf-a2e0-d604b6e61cdd",
   "metadata": {
    "tags": []
   },
   "outputs": [],
   "source": [
    "brfss_dataset = pd.read_csv(brfss_dataset_path)"
   ]
  },
  {
   "cell_type": "code",
   "execution_count": 5,
   "id": "4736092f-cae1-4a7c-9d3d-f51567364f81",
   "metadata": {
    "tags": []
   },
   "outputs": [
    {
     "name": "stdout",
     "output_type": "stream",
     "text": [
      "        YearStart  YearEnd LocationAbbr LocationDesc Datasource  \\\n",
      "0            2011     2011           AK       Alaska      BRFSS   \n",
      "1            2011     2011           AK       Alaska      BRFSS   \n",
      "3            2011     2011           AK       Alaska      BRFSS   \n",
      "4            2011     2011           AK       Alaska      BRFSS   \n",
      "5            2011     2011           AK       Alaska      BRFSS   \n",
      "...           ...      ...          ...          ...        ...   \n",
      "104256       2023     2023           WY      Wyoming      BRFSS   \n",
      "104257       2023     2023           WY      Wyoming      BRFSS   \n",
      "104258       2023     2023           WY      Wyoming      BRFSS   \n",
      "104260       2023     2023           WY      Wyoming      BRFSS   \n",
      "104264       2023     2023           WY      Wyoming      BRFSS   \n",
      "\n",
      "                          Class                    Topic  \\\n",
      "0       Obesity / Weight Status  Obesity / Weight Status   \n",
      "1       Obesity / Weight Status  Obesity / Weight Status   \n",
      "3       Obesity / Weight Status  Obesity / Weight Status   \n",
      "4       Obesity / Weight Status  Obesity / Weight Status   \n",
      "5       Obesity / Weight Status  Obesity / Weight Status   \n",
      "...                         ...                      ...   \n",
      "104256  Obesity / Weight Status  Obesity / Weight Status   \n",
      "104257  Obesity / Weight Status  Obesity / Weight Status   \n",
      "104258  Obesity / Weight Status  Obesity / Weight Status   \n",
      "104260  Obesity / Weight Status  Obesity / Weight Status   \n",
      "104264  Obesity / Weight Status  Obesity / Weight Status   \n",
      "\n",
      "                                                 Question  Data_Value_Unit  \\\n",
      "0       Percent of adults aged 18 years and older who ...           2011.0   \n",
      "1       Percent of adults aged 18 years and older who ...           2011.0   \n",
      "3       Percent of adults aged 18 years and older who ...           2011.0   \n",
      "4       Percent of adults aged 18 years and older who ...           2011.0   \n",
      "5       Percent of adults aged 18 years and older who ...           2011.0   \n",
      "...                                                   ...              ...   \n",
      "104256  Percent of adults aged 18 years and older who ...              NaN   \n",
      "104257  Percent of adults aged 18 years and older who ...              NaN   \n",
      "104258  Percent of adults aged 18 years and older who ...              NaN   \n",
      "104260  Percent of adults aged 18 years and older who ...              NaN   \n",
      "104264  Percent of adults aged 18 years and older who ...              NaN   \n",
      "\n",
      "       Data_Value_Type  ...                               GeoLocation  \\\n",
      "0                Value  ...         (64.845079957001, -147.722059036)   \n",
      "1                Value  ...         (64.845079957001, -147.722059036)   \n",
      "3                Value  ...         (64.845079957001, -147.722059036)   \n",
      "4                Value  ...         (64.845079957001, -147.722059036)   \n",
      "5                Value  ...         (64.845079957001, -147.722059036)   \n",
      "...                ...  ...                                       ...   \n",
      "104256           Value  ...  (43.23554134300048, -108.10983035299967)   \n",
      "104257           Value  ...  (43.23554134300048, -108.10983035299967)   \n",
      "104258           Value  ...  (43.23554134300048, -108.10983035299967)   \n",
      "104260           Value  ...  (43.23554134300048, -108.10983035299967)   \n",
      "104264           Value  ...  (43.23554134300048, -108.10983035299967)   \n",
      "\n",
      "        ClassID TopicID QuestionID  DataValueTypeID  LocationID  \\\n",
      "0           OWS    OWS1       Q036            VALUE           2   \n",
      "1           OWS    OWS1       Q036            VALUE           2   \n",
      "3           OWS    OWS1       Q036            VALUE           2   \n",
      "4           OWS    OWS1       Q037            VALUE           2   \n",
      "5           OWS    OWS1       Q036            VALUE           2   \n",
      "...         ...     ...        ...              ...         ...   \n",
      "104256      OWS    OWS1       Q036            VALUE          56   \n",
      "104257      OWS    OWS1       Q036            VALUE          56   \n",
      "104258      OWS    OWS1       Q036            VALUE          56   \n",
      "104260      OWS    OWS1       Q036            VALUE          56   \n",
      "104264      OWS    OWS1       Q037            VALUE          56   \n",
      "\n",
      "        StratificationCategory1       Stratification1  \\\n",
      "0                Race/Ethnicity       2 or more races   \n",
      "1                Race/Ethnicity                 Other   \n",
      "3                   Age (years)               35 - 44   \n",
      "4                        Income     $15,000 - $24,999   \n",
      "5                        Gender                  Male   \n",
      "...                         ...                   ...   \n",
      "104256              Age (years)               35 - 44   \n",
      "104257                Education  High school graduate   \n",
      "104258                   Income     Less than $15,000   \n",
      "104260              Age (years)               45 - 54   \n",
      "104264              Age (years)               35 - 44   \n",
      "\n",
      "       StratificationCategoryId1 StratificationID1  \n",
      "0                           RACE         RACE2PLUS  \n",
      "1                           RACE           RACEOTH  \n",
      "3                          AGEYR         AGEYR3544  \n",
      "4                            INC           INC1525  \n",
      "5                            GEN              MALE  \n",
      "...                          ...               ...  \n",
      "104256                     AGEYR         AGEYR3544  \n",
      "104257                       EDU         EDUHSGRAD  \n",
      "104258                       INC         INCLESS15  \n",
      "104260                     AGEYR         AGEYR4554  \n",
      "104264                     AGEYR         AGEYR3544  \n",
      "\n",
      "[39368 rows x 33 columns]\n"
     ]
    }
   ],
   "source": [
    "#Filtering out the overweight classifcation and the obesity data\n",
    "brfss_obesity_and_overweight_data = brfss_dataset.loc[(brfss_dataset['Question'] == \"Percent of adults aged 18 years and older who have obesity\") | (brfss_dataset['Question'] == \"Percent of adults aged 18 years and older who have an overweight classification\")]\n",
    "\n",
    "print(brfss_obesity_and_overweight_data)"
   ]
  },
  {
   "cell_type": "code",
   "execution_count": 6,
   "id": "45a7fc15-cb30-499b-a1f5-2b17d18e84cf",
   "metadata": {
    "tags": []
   },
   "outputs": [
    {
     "data": {
      "text/plain": [
       "['Alabama',\n",
       " 'Alaska',\n",
       " 'Arizona',\n",
       " 'Arkansas',\n",
       " 'California',\n",
       " 'Colorado',\n",
       " 'Connecticut',\n",
       " 'Delaware',\n",
       " 'District of Columbia',\n",
       " 'Florida',\n",
       " 'Georgia',\n",
       " 'Guam',\n",
       " 'Hawaii',\n",
       " 'Idaho',\n",
       " 'Illinois',\n",
       " 'Indiana',\n",
       " 'Iowa',\n",
       " 'Kansas',\n",
       " 'Kentucky',\n",
       " 'Louisiana',\n",
       " 'Maine',\n",
       " 'Maryland',\n",
       " 'Massachusetts',\n",
       " 'Michigan',\n",
       " 'Minnesota',\n",
       " 'Mississippi',\n",
       " 'Missouri',\n",
       " 'Montana',\n",
       " 'National',\n",
       " 'Nebraska',\n",
       " 'Nevada',\n",
       " 'New Hampshire',\n",
       " 'New Jersey',\n",
       " 'New Mexico',\n",
       " 'New York',\n",
       " 'North Carolina',\n",
       " 'North Dakota',\n",
       " 'Ohio',\n",
       " 'Oklahoma',\n",
       " 'Oregon',\n",
       " 'Pennsylvania',\n",
       " 'Puerto Rico',\n",
       " 'Rhode Island',\n",
       " 'South Carolina',\n",
       " 'South Dakota',\n",
       " 'Tennessee',\n",
       " 'Texas',\n",
       " 'Utah',\n",
       " 'Vermont',\n",
       " 'Virgin Islands',\n",
       " 'Virginia',\n",
       " 'Washington',\n",
       " 'West Virginia',\n",
       " 'Wisconsin',\n",
       " 'Wyoming']"
      ]
     },
     "execution_count": 6,
     "metadata": {},
     "output_type": "execute_result"
    }
   ],
   "source": [
    "#Checking all the locations in the data and sorting the locations\n",
    "unique_location = brfss_obesity_and_overweight_data[\"LocationDesc\"].unique()\n",
    "unique_location = list(unique_location)\n",
    "unique_location.sort()\n",
    "unique_location"
   ]
  },
  {
   "cell_type": "code",
   "execution_count": 7,
   "id": "f922a870-7853-4d19-9b5c-f445f47cb9ee",
   "metadata": {
    "tags": []
   },
   "outputs": [
    {
     "data": {
      "text/plain": [
       "['AK',\n",
       " 'AL',\n",
       " 'AR',\n",
       " 'AZ',\n",
       " 'CA',\n",
       " 'CO',\n",
       " 'CT',\n",
       " 'DC',\n",
       " 'DE',\n",
       " 'FL',\n",
       " 'GA',\n",
       " 'GU',\n",
       " 'HI',\n",
       " 'IA',\n",
       " 'ID',\n",
       " 'IL',\n",
       " 'IN',\n",
       " 'KS',\n",
       " 'KY',\n",
       " 'LA',\n",
       " 'MA',\n",
       " 'MD',\n",
       " 'ME',\n",
       " 'MI',\n",
       " 'MN',\n",
       " 'MO',\n",
       " 'MS',\n",
       " 'MT',\n",
       " 'NC',\n",
       " 'ND',\n",
       " 'NE',\n",
       " 'NH',\n",
       " 'NJ',\n",
       " 'NM',\n",
       " 'NV',\n",
       " 'NY',\n",
       " 'OH',\n",
       " 'OK',\n",
       " 'OR',\n",
       " 'PA',\n",
       " 'PR',\n",
       " 'RI',\n",
       " 'SC',\n",
       " 'SD',\n",
       " 'TN',\n",
       " 'TX',\n",
       " 'US',\n",
       " 'UT',\n",
       " 'VA',\n",
       " 'VI',\n",
       " 'VT',\n",
       " 'WA',\n",
       " 'WI',\n",
       " 'WV',\n",
       " 'WY']"
      ]
     },
     "execution_count": 7,
     "metadata": {},
     "output_type": "execute_result"
    }
   ],
   "source": [
    "#checking all unique location abbreviations and sorting them\n",
    "#WARNING THIS ORDER IS NOT THE SAME AS LOCATION ORDER DUE TO STUFF LIKE AZ = ARIZONA\n",
    "unique_location_abbr = brfss_obesity_and_overweight_data[\"LocationAbbr\"].unique()\n",
    "unique_location_abbr = list(unique_location_abbr)\n",
    "unique_location_abbr.sort()\n",
    "unique_location_abbr"
   ]
  },
  {
   "cell_type": "code",
   "execution_count": 8,
   "id": "140d269a-6d71-4a37-a06f-8d76d7f4d412",
   "metadata": {
    "tags": []
   },
   "outputs": [],
   "source": [
    "#filter out the data by location in lexicographical order\n",
    "location_dataset = []\n",
    "for location in unique_location:\n",
    "    location_dataset.append( brfss_obesity_and_overweight_data[brfss_obesity_and_overweight_data[\"LocationDesc\"]==location])\n",
    "#location_dataset #to print the dataset"
   ]
  },
  {
   "cell_type": "code",
   "execution_count": 9,
   "id": "360b989f-a8a1-486b-8508-945f4e9e3e49",
   "metadata": {
    "tags": []
   },
   "outputs": [],
   "source": [
    "#weighted average using sample size and percentage of people with obesity and overweight classification by state\n",
    "location_weighted_mean = []\n",
    "for location_data in location_dataset:\n",
    "    weighted_location_average = (location_data[\"Data_Value\"] * location_data[\"Sample_Size\"]).sum()\n",
    "    total_people_location = location_data[\"Sample_Size\"].sum()\n",
    "    percentage_people_location = weighted_location_average/total_people_location\n",
    "    location_weighted_mean.append(percentage_people_location)\n"
   ]
  },
  {
   "cell_type": "code",
   "execution_count": 1,
   "id": "e0dbeb50-9b44-4aad-bc8e-19cfd0d0955b",
   "metadata": {
    "tags": []
   },
   "outputs": [
    {
     "ename": "NameError",
     "evalue": "name 'plt' is not defined",
     "output_type": "error",
     "traceback": [
      "\u001b[1;31m---------------------------------------------------------------------------\u001b[0m",
      "\u001b[1;31mNameError\u001b[0m                                 Traceback (most recent call last)",
      "Cell \u001b[1;32mIn[1], line 2\u001b[0m\n\u001b[0;32m      1\u001b[0m \u001b[38;5;66;03m#plotting average percentage of obesity and overweight classification for each state\u001b[39;00m\n\u001b[1;32m----> 2\u001b[0m plt\u001b[38;5;241m.\u001b[39mfigure(figsize\u001b[38;5;241m=\u001b[39m(\u001b[38;5;241m20\u001b[39m,\u001b[38;5;241m20\u001b[39m)) \n\u001b[0;32m      3\u001b[0m plt\u001b[38;5;241m.\u001b[39mtitle(\u001b[38;5;124m\"\u001b[39m\u001b[38;5;124mAverage perecentage of obesity and overweight classification for each state\u001b[39m\u001b[38;5;124m\"\u001b[39m)\n\u001b[0;32m      4\u001b[0m plt\u001b[38;5;241m.\u001b[39mylabel(\u001b[38;5;124m\"\u001b[39m\u001b[38;5;124mState names\u001b[39m\u001b[38;5;124m\"\u001b[39m)\n",
      "\u001b[1;31mNameError\u001b[0m: name 'plt' is not defined"
     ]
    }
   ],
   "source": [
    "#plotting average percentage of obesity and overweight classification for each state\n",
    "plt.figure(figsize=(20,20)) \n",
    "plt.title(\"Average perecentage of obesity and overweight classification for each state\")\n",
    "plt.ylabel(\"State names\")\n",
    "plt.xlabel(\"Percentage of obesity and overweight classification\")\n",
    "#have exact value of the bar written in text\n",
    "bars = plt.barh(unique_location,location_weighted_mean)\n",
    "for bar in bars:\n",
    "    plt.text(bar.get_width() - (bar.get_width() * 0.05),  \n",
    "             bar.get_y() + bar.get_height() / 2,  \n",
    "             f'{bar.get_width():.2f}%',  \n",
    "             va='center', ha='right', color='white', fontsize=10)  \n",
    "plt.savefig(r'C:\\Users\\idhan\\Downloads\\pfas_health_issues\\data\\BRFSS_obesity_by_state_graph.png', bbox_inches='tight', dpi=300)\n"
   ]
  },
  {
   "cell_type": "code",
   "execution_count": null,
   "id": "82d1bff7-e39a-4b88-9eb5-db994ab1f1bd",
   "metadata": {},
   "outputs": [],
   "source": [
    "#Checking all the start years in the data and sorting the year\n",
    "unique_year = brfss_obesity_and_overweight_data[\"YearStart\"].unique()\n",
    "unique_year = list(unique_year)\n",
    "unique_year.sort()\n",
    "unique_year"
   ]
  },
  {
   "cell_type": "code",
   "execution_count": 12,
   "id": "135756ca-5e9e-49b3-a7f9-1c16bae128ee",
   "metadata": {
    "tags": []
   },
   "outputs": [],
   "source": [
    "#filter out the data by year in chronological order\n",
    "year_dataset = []\n",
    "for year in unique_year:\n",
    "    year_dataset.append( brfss_obesity_and_overweight_data[brfss_obesity_and_overweight_data[\"YearStart\"]==year])\n",
    "#year_dataset #to print the dataset\n"
   ]
  },
  {
   "cell_type": "code",
   "execution_count": 13,
   "id": "300a84d4-da54-4edb-8482-129b300e7e02",
   "metadata": {},
   "outputs": [],
   "source": [
    "#weighted average using sample size and percentage of people with obesity and overweight classification by year\n",
    "year_weighted_mean = []\n",
    "for year_data in year_dataset:\n",
    "    weighted_year_average = (year_data[\"Data_Value\"] * year_data[\"Sample_Size\"]).sum()\n",
    "    total_people_year = year_data[\"Sample_Size\"].sum()\n",
    "    percentage_people_year = weighted_year_average/total_people_year\n",
    "    year_weighted_mean.append(percentage_people_year)\n"
   ]
  },
  {
   "cell_type": "code",
   "execution_count": 14,
   "id": "8fc3ea9c-4c89-49a4-8637-6a9aca68e085",
   "metadata": {
    "tags": []
   },
   "outputs": [
    {
     "data": {
      "image/png": "[encoded data removed]",
      "text/plain": [
       "<Figure size 1000x600 with 1 Axes>"
      ]
     },
     "metadata": {},
     "output_type": "display_data"
    }
   ],
   "source": [
    "#plot the average percentage of obesity and overweight classification people by year\n",
    "plt.figure(figsize=(10, 6))  \n",
    "plt.plot(unique_year, year_weighted_mean, marker='o', linestyle='-', color='b') \n",
    "plt.title('Average percentage of Obesity and Overweight Classification People by Year')  \n",
    "plt.xlabel('Year')\n",
    "plt.ylabel('Percentage of Obesity and Overweight Classification People') \n",
    "plt.xticks(unique_year, labels=[str(year) for year in unique_year], rotation=45)\n",
    "\n",
    "# have text for each value\n",
    "for i, value in enumerate(year_weighted_mean):\n",
    "    plt.text(unique_year[i], value, f'{value:.2f}%', ha='center', va='bottom', color='darkblue')\n",
    "\n",
    "\n"
   ]
  },
  {
   "cell_type": "code",
   "execution_count": 15,
   "id": "5f8e2423-1047-4894-884d-04fe1582323c",
   "metadata": {
    "tags": []
   },
   "outputs": [],
   "source": [
    "#loading UCMR-5 dataset\n",
    "#UCMR dataset is not useful right now since it is 2023-2025 values\n",
    "ucmr_5_dataset = pd.read_csv(r\"C:\\Users\\idhan\\Downloads\\pfas_health_issues\\data\\UMR-5DatasetCSV.csv\")"
   ]
  },
  {
   "cell_type": "code",
   "execution_count": 16,
   "id": "4e8f3021-c631-47ac-b65e-9e5b52a6dfd7",
   "metadata": {},
   "outputs": [],
   "source": [
    "# #trying toinner join and merge UMR-5 dataset with the BRFSS weight dataset but it did not work due to memory issues\n",
    "# ucmr_5_brfss_weight_dataset = pd.merge(brfss_dataset,ucmr_5_dataset, left_on='LocationAbbr', right_on='State', how='inner')\n"
   ]
  },
  {
   "cell_type": "code",
   "execution_count": 17,
   "id": "848e46eb-1374-4c1b-9a8a-5c6b66ef770a",
   "metadata": {
    "tags": []
   },
   "outputs": [],
   "source": [
    "# #tried to merge just the overweight dataset points with the UMR-5 which did not work either\n",
    "# ucmr_5_brfss_weight_dataset = pd.merge(brfss_obesity_and_overweight_data,ucmr_5__dataset, left_on='LocationAbbr', right_on='State', how='inner')\n"
   ]
  },
  {
   "cell_type": "code",
   "execution_count": 18,
   "id": "6a08e40c-98a6-4e5e-8fd0-edcd814c9884",
   "metadata": {},
   "outputs": [],
   "source": [
    "#loading UCMR-3 dataset (2013-2015)\n",
    "ucmr_3_dataset = pd.read_csv(r\"C:\\Users\\idhan\\Downloads\\pfas_health_issues\\data\\UCMR-3DatasetCSV.csv\")"
   ]
  },
  {
   "cell_type": "code",
   "execution_count": 19,
   "id": "5b968ab5-185d-43ac-821d-ca13aabe22a0",
   "metadata": {
    "tags": []
   },
   "outputs": [],
   "source": [
    "#filtering out state values 1 to 10 which are the Tribal water sources data\n",
    "ucmr_3_dataset = ucmr_3_dataset[~ucmr_3_dataset['State'].isin([f\"{i:02}\" for i in range(1,11)])]"
   ]
  },
  {
   "cell_type": "code",
   "execution_count": 20,
   "id": "a34ddef9-d58a-4fd4-b073-a35eda554129",
   "metadata": {
    "tags": []
   },
   "outputs": [],
   "source": [
    "# for debugging\n",
    "# print(ucmr_3_dataset.dtypes)\n"
   ]
  },
  {
   "cell_type": "code",
   "execution_count": 21,
   "id": "91e0cc4a-f158-45cb-ab5a-65d4e9ad8c60",
   "metadata": {
    "tags": []
   },
   "outputs": [
    {
     "data": {
      "text/plain": [
       "2992       1/5/2015\n",
       "2993       1/5/2015\n",
       "2994       1/5/2015\n",
       "2995       1/5/2015\n",
       "2996       1/5/2015\n",
       "             ...   \n",
       "1048570    4/7/2015\n",
       "1048571    4/7/2015\n",
       "1048572    4/7/2015\n",
       "1048573    4/7/2015\n",
       "1048574    4/7/2015\n",
       "Name: CollectionDate, Length: 1045583, dtype: object"
      ]
     },
     "execution_count": 21,
     "metadata": {},
     "output_type": "execute_result"
    }
   ],
   "source": [
    "ucmr_3_dataset[\"CollectionDate\"]"
   ]
  },
  {
   "cell_type": "code",
   "execution_count": 22,
   "id": "28747fff-19ca-4a4c-9586-4b5957782e23",
   "metadata": {},
   "outputs": [],
   "source": [
    "#convert the Collection Date into a datetime format\n",
    "ucmr_3_dataset['CollectionDate'] = pd.to_datetime(ucmr_3_dataset['CollectionDate'], errors='coerce')\n"
   ]
  },
  {
   "cell_type": "code",
   "execution_count": 23,
   "id": "4e757f3e-aed3-4cd4-9a8b-2f3f92595611",
   "metadata": {
    "tags": []
   },
   "outputs": [],
   "source": [
    "# print(ucmr_3_dataset[\"CollectionDate\"].dtypes)\n"
   ]
  },
  {
   "cell_type": "code",
   "execution_count": 24,
   "id": "65b6901d-0d93-4fd9-9aaf-2c129d3f99e7",
   "metadata": {
    "tags": []
   },
   "outputs": [],
   "source": [
    "# print(ucmr_3_dataset.loc[:,\"CollectionDate\"].dtype)\n"
   ]
  },
  {
   "cell_type": "code",
   "execution_count": 25,
   "id": "3cc7d274-9cd3-4ac4-9986-668a869bd3e0",
   "metadata": {
    "tags": []
   },
   "outputs": [],
   "source": [
    "#extracting the year for each row from the Collection Date\n",
    "ucmr_3_dataset[\"CollectionYear\"] = ucmr_3_dataset[\"CollectionDate\"].dt.year"
   ]
  },
  {
   "cell_type": "code",
   "execution_count": 26,
   "id": "8e4d7c7c-7076-4baf-8130-8fa852ab6934",
   "metadata": {
    "tags": []
   },
   "outputs": [],
   "source": [
    "# to save a csv file with the collection year\n",
    "# ucmr_3_dataset.to_csv(r'C:\\Users\\idhan\\Downloads\\pfas_health_issues\\data\\ucmr_3_dataset_with_collection_year.csv')"
   ]
  },
  {
   "cell_type": "code",
   "execution_count": 27,
   "id": "62cf1794-967b-4e94-955d-03da3d92c443",
   "metadata": {},
   "outputs": [],
   "source": [
    "#list of pfas values we want from the dataset\n",
    "pfas_values = [\"PFBS\", \"PFHxS\", \"PFOA\", \"PFOS\", \"PFNA\", \"PFHpA\"]\n"
   ]
  },
  {
   "cell_type": "code",
   "execution_count": 28,
   "id": "f6ef6786-8bdf-4ac4-a260-ef8c4ac7ec59",
   "metadata": {
    "tags": []
   },
   "outputs": [],
   "source": [
    "#filters out data of the PFAS collection\n",
    "ucmr_3_dataset = ucmr_3_dataset[ucmr_3_dataset[\"Contaminant\"].isin(pfas_values)]\n"
   ]
  },
  {
   "cell_type": "code",
   "execution_count": 29,
   "id": "29bf5b9f-1ff4-4166-b60d-f3d0ab981d13",
   "metadata": {
    "tags": []
   },
   "outputs": [],
   "source": [
    "#add 0s for missing Analytical Result Value\n",
    "ucmr_3_dataset[\"AnalyticalResultValue\"] = ucmr_3_dataset[\"AnalyticalResultValue\"].fillna(0)"
   ]
  },
  {
   "cell_type": "code",
   "execution_count": 30,
   "id": "506f3ad0-0a57-4fa3-834b-b5cf78cdbf23",
   "metadata": {
    "tags": []
   },
   "outputs": [],
   "source": [
    "#finding the average of analytical result value for each PFAS contaminant for each state and each year\n",
    "ucmr_3_preprocessed_dataset = (\n",
    "    ucmr_3_dataset.groupby(['State', 'CollectionYear', 'Contaminant'], as_index=False)\n",
    "        .agg({'AnalyticalResultValue': 'mean'})\n",
    ")"
   ]
  },
  {
   "cell_type": "code",
   "execution_count": 31,
   "id": "b10f010c-e492-47ab-b106-0f801974bd19",
   "metadata": {
    "tags": []
   },
   "outputs": [],
   "source": [
    "#printing to verify if the preprocessed dataset looks as expected\n",
    "#ucmr_3_preprocessed_dataset\n"
   ]
  },
  {
   "cell_type": "code",
   "execution_count": 32,
   "id": "3ff7f730-a689-42b8-9130-114b8902b159",
   "metadata": {},
   "outputs": [],
   "source": [
    "#converting the preprocessed ucmr_3 dataset into a csv file\n",
    "ucmr_3_preprocessed_dataset.to_csv(r'C:\\Users\\idhan\\Downloads\\pfas_health_issues\\data\\ucmr_3_preprocessed_data.csv')"
   ]
  },
  {
   "cell_type": "code",
   "execution_count": 33,
   "id": "b0e18cf7-e5f1-409e-b7ba-cc885d6406a5",
   "metadata": {},
   "outputs": [],
   "source": [
    "#finding the average obesity and overweight value respectively for each state in each specific year\n",
    "brfss_preprocessed_obesity_and_overweight_data = (brfss_obesity_and_overweight_data.groupby([\"LocationAbbr\",\"Question\",\"YearStart\"],as_index = False).agg({'Data_Value':'mean'}))"
   ]
  },
  {
   "cell_type": "code",
   "execution_count": 34,
   "id": "f5562216-8210-4585-a0a4-5ce607c3a49b",
   "metadata": {
    "tags": []
   },
   "outputs": [],
   "source": [
    "#converting the preprocessed brfss dataset into a csv file\n",
    "brfss_preprocessed_obesity_and_overweight_data.to_csv(r'C:\\Users\\idhan\\Downloads\\pfas_health_issues\\data\\brfss_preprocessed_obesity_and_overweight_data.csv')"
   ]
  },
  {
   "cell_type": "code",
   "execution_count": 35,
   "id": "e66590b0-c404-476e-b78c-26b5b153b8aa",
   "metadata": {
    "tags": []
   },
   "outputs": [],
   "source": [
    "#UCMR-3 dataset only has data for 2013-2015\n",
    "ucmr_3_years = [2013,2014,2015]"
   ]
  },
  {
   "cell_type": "code",
   "execution_count": 36,
   "id": "0842b2b9-ba33-4281-8937-3699b53f3ffe",
   "metadata": {},
   "outputs": [],
   "source": [
    "#filtering out data from BRFSS dataset from 2013-2015 to merge it with the UCMR-3 dataset\n",
    "ucmr_3_brfss_preprocessed_obesity_and_overweight_data = brfss_preprocessed_obesity_and_overweight_data[brfss_preprocessed_obesity_and_overweight_data[\"YearStart\"].isin(ucmr_3_years)]"
   ]
  },
  {
   "cell_type": "code",
   "execution_count": 37,
   "id": "85074db5-dfea-433a-bff6-aa5de05b0135",
   "metadata": {
    "tags": []
   },
   "outputs": [
    {
     "data": {
      "text/html": [
       "<div>\n",
       "<style scoped>\n",
       "    .dataframe tbody tr th:only-of-type {\n",
       "        vertical-align: middle;\n",
       "    }\n",
       "\n",
       "    .dataframe tbody tr th {\n",
       "        vertical-align: top;\n",
       "    }\n",
       "\n",
       "    .dataframe thead th {\n",
       "        text-align: right;\n",
       "    }\n",
       "</style>\n",
       "<table border=\"1\" class=\"dataframe\">\n",
       "  <thead>\n",
       "    <tr style=\"text-align: right;\">\n",
       "      <th></th>\n",
       "      <th>LocationAbbr</th>\n",
       "      <th>Question</th>\n",
       "      <th>YearStart</th>\n",
       "      <th>Data_Value</th>\n",
       "    </tr>\n",
       "  </thead>\n",
       "  <tbody>\n",
       "    <tr>\n",
       "      <th>2</th>\n",
       "      <td>AK</td>\n",
       "      <td>Percent of adults aged 18 years and older who ...</td>\n",
       "      <td>2013</td>\n",
       "      <td>36.388462</td>\n",
       "    </tr>\n",
       "    <tr>\n",
       "      <th>3</th>\n",
       "      <td>AK</td>\n",
       "      <td>Percent of adults aged 18 years and older who ...</td>\n",
       "      <td>2014</td>\n",
       "      <td>34.753846</td>\n",
       "    </tr>\n",
       "    <tr>\n",
       "      <th>4</th>\n",
       "      <td>AK</td>\n",
       "      <td>Percent of adults aged 18 years and older who ...</td>\n",
       "      <td>2015</td>\n",
       "      <td>36.526923</td>\n",
       "    </tr>\n",
       "    <tr>\n",
       "      <th>15</th>\n",
       "      <td>AK</td>\n",
       "      <td>Percent of adults aged 18 years and older who ...</td>\n",
       "      <td>2013</td>\n",
       "      <td>28.711538</td>\n",
       "    </tr>\n",
       "    <tr>\n",
       "      <th>16</th>\n",
       "      <td>AK</td>\n",
       "      <td>Percent of adults aged 18 years and older who ...</td>\n",
       "      <td>2014</td>\n",
       "      <td>29.884615</td>\n",
       "    </tr>\n",
       "    <tr>\n",
       "      <th>...</th>\n",
       "      <td>...</td>\n",
       "      <td>...</td>\n",
       "      <td>...</td>\n",
       "      <td>...</td>\n",
       "    </tr>\n",
       "    <tr>\n",
       "      <th>1383</th>\n",
       "      <td>WY</td>\n",
       "      <td>Percent of adults aged 18 years and older who ...</td>\n",
       "      <td>2014</td>\n",
       "      <td>34.816000</td>\n",
       "    </tr>\n",
       "    <tr>\n",
       "      <th>1384</th>\n",
       "      <td>WY</td>\n",
       "      <td>Percent of adults aged 18 years and older who ...</td>\n",
       "      <td>2015</td>\n",
       "      <td>36.000000</td>\n",
       "    </tr>\n",
       "    <tr>\n",
       "      <th>1395</th>\n",
       "      <td>WY</td>\n",
       "      <td>Percent of adults aged 18 years and older who ...</td>\n",
       "      <td>2013</td>\n",
       "      <td>28.276000</td>\n",
       "    </tr>\n",
       "    <tr>\n",
       "      <th>1396</th>\n",
       "      <td>WY</td>\n",
       "      <td>Percent of adults aged 18 years and older who ...</td>\n",
       "      <td>2014</td>\n",
       "      <td>29.956000</td>\n",
       "    </tr>\n",
       "    <tr>\n",
       "      <th>1397</th>\n",
       "      <td>WY</td>\n",
       "      <td>Percent of adults aged 18 years and older who ...</td>\n",
       "      <td>2015</td>\n",
       "      <td>29.652174</td>\n",
       "    </tr>\n",
       "  </tbody>\n",
       "</table>\n",
       "<p>322 rows × 4 columns</p>\n",
       "</div>"
      ],
      "text/plain": [
       "     LocationAbbr                                           Question  \\\n",
       "2              AK  Percent of adults aged 18 years and older who ...   \n",
       "3              AK  Percent of adults aged 18 years and older who ...   \n",
       "4              AK  Percent of adults aged 18 years and older who ...   \n",
       "15             AK  Percent of adults aged 18 years and older who ...   \n",
       "16             AK  Percent of adults aged 18 years and older who ...   \n",
       "...           ...                                                ...   \n",
       "1383           WY  Percent of adults aged 18 years and older who ...   \n",
       "1384           WY  Percent of adults aged 18 years and older who ...   \n",
       "1395           WY  Percent of adults aged 18 years and older who ...   \n",
       "1396           WY  Percent of adults aged 18 years and older who ...   \n",
       "1397           WY  Percent of adults aged 18 years and older who ...   \n",
       "\n",
       "      YearStart  Data_Value  \n",
       "2          2013   36.388462  \n",
       "3          2014   34.753846  \n",
       "4          2015   36.526923  \n",
       "15         2013   28.711538  \n",
       "16         2014   29.884615  \n",
       "...         ...         ...  \n",
       "1383       2014   34.816000  \n",
       "1384       2015   36.000000  \n",
       "1395       2013   28.276000  \n",
       "1396       2014   29.956000  \n",
       "1397       2015   29.652174  \n",
       "\n",
       "[322 rows x 4 columns]"
      ]
     },
     "execution_count": 37,
     "metadata": {},
     "output_type": "execute_result"
    }
   ],
   "source": [
    "ucmr_3_brfss_preprocessed_obesity_and_overweight_data"
   ]
  },
  {
   "cell_type": "code",
   "execution_count": 38,
   "id": "6a3bb4de-135b-4eb2-9f6d-77850a6cebde",
   "metadata": {
    "tags": []
   },
   "outputs": [],
   "source": [
    "#converting the brfss weight dataset preprocessed dataset for UCMR-3 merging into a csv file\n",
    "ucmr_3_brfss_preprocessed_obesity_and_overweight_data.to_csv(r'C:\\Users\\idhan\\Downloads\\pfas_health_issues\\data\\ucmr_3_brfss_preprocessed_obesity_and_overweight_data.csv')"
   ]
  },
  {
   "cell_type": "code",
   "execution_count": 39,
   "id": "909a47d9-3b68-4986-913c-24a0a03d11bc",
   "metadata": {
    "tags": []
   },
   "outputs": [
    {
     "data": {
      "text/html": [
       "<div>\n",
       "<style scoped>\n",
       "    .dataframe tbody tr th:only-of-type {\n",
       "        vertical-align: middle;\n",
       "    }\n",
       "\n",
       "    .dataframe tbody tr th {\n",
       "        vertical-align: top;\n",
       "    }\n",
       "\n",
       "    .dataframe thead th {\n",
       "        text-align: right;\n",
       "    }\n",
       "</style>\n",
       "<table border=\"1\" class=\"dataframe\">\n",
       "  <thead>\n",
       "    <tr style=\"text-align: right;\">\n",
       "      <th></th>\n",
       "      <th>State</th>\n",
       "      <th>CollectionYear</th>\n",
       "      <th>Contaminant</th>\n",
       "      <th>AnalyticalResultValue</th>\n",
       "    </tr>\n",
       "  </thead>\n",
       "  <tbody>\n",
       "    <tr>\n",
       "      <th>0</th>\n",
       "      <td>AK</td>\n",
       "      <td>2013</td>\n",
       "      <td>PFBS</td>\n",
       "      <td>0.0</td>\n",
       "    </tr>\n",
       "    <tr>\n",
       "      <th>1</th>\n",
       "      <td>AK</td>\n",
       "      <td>2013</td>\n",
       "      <td>PFHpA</td>\n",
       "      <td>0.0</td>\n",
       "    </tr>\n",
       "    <tr>\n",
       "      <th>2</th>\n",
       "      <td>AK</td>\n",
       "      <td>2013</td>\n",
       "      <td>PFHxS</td>\n",
       "      <td>0.0</td>\n",
       "    </tr>\n",
       "    <tr>\n",
       "      <th>3</th>\n",
       "      <td>AK</td>\n",
       "      <td>2013</td>\n",
       "      <td>PFNA</td>\n",
       "      <td>0.0</td>\n",
       "    </tr>\n",
       "    <tr>\n",
       "      <th>4</th>\n",
       "      <td>AK</td>\n",
       "      <td>2013</td>\n",
       "      <td>PFOA</td>\n",
       "      <td>0.0</td>\n",
       "    </tr>\n",
       "    <tr>\n",
       "      <th>...</th>\n",
       "      <td>...</td>\n",
       "      <td>...</td>\n",
       "      <td>...</td>\n",
       "      <td>...</td>\n",
       "    </tr>\n",
       "    <tr>\n",
       "      <th>1117</th>\n",
       "      <td>WI</td>\n",
       "      <td>2015</td>\n",
       "      <td>PFHpA</td>\n",
       "      <td>0.0</td>\n",
       "    </tr>\n",
       "    <tr>\n",
       "      <th>1118</th>\n",
       "      <td>WI</td>\n",
       "      <td>2015</td>\n",
       "      <td>PFHxS</td>\n",
       "      <td>0.0</td>\n",
       "    </tr>\n",
       "    <tr>\n",
       "      <th>1119</th>\n",
       "      <td>WI</td>\n",
       "      <td>2015</td>\n",
       "      <td>PFNA</td>\n",
       "      <td>0.0</td>\n",
       "    </tr>\n",
       "    <tr>\n",
       "      <th>1120</th>\n",
       "      <td>WI</td>\n",
       "      <td>2015</td>\n",
       "      <td>PFOA</td>\n",
       "      <td>0.0</td>\n",
       "    </tr>\n",
       "    <tr>\n",
       "      <th>1121</th>\n",
       "      <td>WI</td>\n",
       "      <td>2015</td>\n",
       "      <td>PFOS</td>\n",
       "      <td>0.0</td>\n",
       "    </tr>\n",
       "  </tbody>\n",
       "</table>\n",
       "<p>1122 rows × 4 columns</p>\n",
       "</div>"
      ],
      "text/plain": [
       "     State  CollectionYear Contaminant  AnalyticalResultValue\n",
       "0       AK            2013        PFBS                    0.0\n",
       "1       AK            2013       PFHpA                    0.0\n",
       "2       AK            2013       PFHxS                    0.0\n",
       "3       AK            2013        PFNA                    0.0\n",
       "4       AK            2013        PFOA                    0.0\n",
       "...    ...             ...         ...                    ...\n",
       "1117    WI            2015       PFHpA                    0.0\n",
       "1118    WI            2015       PFHxS                    0.0\n",
       "1119    WI            2015        PFNA                    0.0\n",
       "1120    WI            2015        PFOA                    0.0\n",
       "1121    WI            2015        PFOS                    0.0\n",
       "\n",
       "[1122 rows x 4 columns]"
      ]
     },
     "execution_count": 39,
     "metadata": {},
     "output_type": "execute_result"
    }
   ],
   "source": [
    "ucmr_3_preprocessed_dataset"
   ]
  },
  {
   "cell_type": "code",
   "execution_count": 44,
   "id": "ae741559-4ed7-48f9-bdec-f7049c3f72d1",
   "metadata": {
    "tags": []
   },
   "outputs": [],
   "source": [
    "#merging the BRFSS weight dataset and the UCMR 3 dataset for the relevant years based on the state and collection year\n",
    "#using inner merge to emsure that the only merged values are when the values are the same in both datasets\n",
    "merged_ucmr_3_merged_brfss_preprocessed_obesity_and_overwight_data = pd.merge(ucmr_3_brfss_preprocessed_obesity_and_overweight_data,ucmr_3_preprocessed_dataset,left_on =['LocationAbbr','YearStart'], right_on =['State','CollectionYear'],how='inner')"
   ]
  },
  {
   "cell_type": "code",
   "execution_count": 45,
   "id": "6e82d622-061e-4dc7-acbb-0fd4462c987f",
   "metadata": {
    "tags": []
   },
   "outputs": [],
   "source": [
    "merged_ucmr_3_merged_brfss_preprocessed_obesity_and_overwight_data.to_csv(r'C:\\Users\\idhan\\Downloads\\pfas_health_issues\\data\\merged_ucmr_3_brfss_preprocessed_obesity_and_overweight_data.csv')"
   ]
  },
  {
   "cell_type": "code",
   "execution_count": null,
   "id": "0955fc39-7df6-46a5-9fe3-449af9fcf8d4",
   "metadata": {},
   "outputs": [],
   "source": []
  }
 ],
 "metadata": {
  "kernelspec": {
   "display_name": "Python 3 (ipykernel)",
   "language": "python",
   "name": "python3"
  },
  "language_info": {
   "codemirror_mode": {
    "name": "ipython",
    "version": 3
   },
   "file_extension": ".py",
   "mimetype": "text/x-python",
   "name": "python",
   "nbconvert_exporter": "python",
   "pygments_lexer": "ipython3",
   "version": "3.11.5"
  }
 },
 "nbformat": 4,
 "nbformat_minor": 5
}
